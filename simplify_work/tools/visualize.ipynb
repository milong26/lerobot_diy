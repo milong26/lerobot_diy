{
 "cells": [
  {
   "cell_type": "markdown",
   "metadata": {},
   "source": [
    "可视化工具"
   ]
  },
  {
   "cell_type": "code",
   "execution_count": 1,
   "metadata": {},
   "outputs": [],
   "source": [
    "import pandas as pd\n",
    "import numpy as np\n",
    "import matplotlib.pyplot as plt\n",
    "\n",
    "# 读取数据\n",
    "df = pd.read_parquet('/home/qwe/.cache/huggingface/lerobot/test/collect_1/data/chunk-000/episode_000000.parquet')\n"
   ]
  },
  {
   "cell_type": "markdown",
   "metadata": {},
   "source": []
  },
  {
   "cell_type": "code",
   "execution_count": 2,
   "metadata": {},
   "outputs": [
    {
     "name": "stdout",
     "output_type": "stream",
     "text": [
      "Index(['action', 'observation.state', 'observation.force', 'timestamp',\n",
      "       'frame_index', 'episode_index', 'index', 'task_index'],\n",
      "      dtype='object')\n"
     ]
    }
   ],
   "source": [
    "print(df.columns)"
   ]
  },
  {
   "cell_type": "code",
   "execution_count": 4,
   "metadata": {},
   "outputs": [
    {
     "name": "stdout",
     "output_type": "stream",
     "text": [
      "0      [-0.5700000762939474, 1.4249954223632812, 0.84...\n",
      "1      [-0.06000003814697408, -0.7050003051757869, 0....\n",
      "2      [1.8900001525878913, 0.7949981689453125, -0.14...\n",
      "3      [-10.335000610351564, 4.829997253417957, 3.049...\n",
      "4      [-9.3600004196167, 4.004994201660139, 0.338793...\n",
      "                             ...                        \n",
      "264    [-6.600000190734864, 5.564994812011719, -4.912...\n",
      "265    [-4.755000114440918, 2.0249954223632756, -2.80...\n",
      "266    [-6.615000343322755, 3.8099945068359204, -7.81...\n",
      "267    [-5.670000267028808, 3.734997558593733, -5.033...\n",
      "268    [-6.840000438690186, 3.299996948242182, -4.355...\n",
      "Name: observation.force, Length: 269, dtype: object\n"
     ]
    }
   ],
   "source": [
    "tasks=df[\"observation.force\"]\n",
    "print(tasks)"
   ]
  }
 ],
 "metadata": {
  "kernelspec": {
   "display_name": "lerobot",
   "language": "python",
   "name": "python3"
  },
  "language_info": {
   "codemirror_mode": {
    "name": "ipython",
    "version": 3
   },
   "file_extension": ".py",
   "mimetype": "text/x-python",
   "name": "python",
   "nbconvert_exporter": "python",
   "pygments_lexer": "ipython3",
   "version": "3.10.17"
  }
 },
 "nbformat": 4,
 "nbformat_minor": 2
}

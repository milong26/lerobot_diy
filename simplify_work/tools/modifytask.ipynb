{
 "cells": [
  {
   "cell_type": "markdown",
   "metadata": {},
   "source": [
    "读取modified_tasks.json\n",
    "\n",
    "然后整理成Pick up the pyramid-shaped sachet and place it into the box , sachet position relative to gripper is (-0.101, 0.158, -0.103)这样的形式，其中relative position用原来的值算出来\n",
    "\n",
    "最后保存成relative_task.json"
   ]
  },
  {
   "cell_type": "code",
   "execution_count": 2,
   "metadata": {},
   "outputs": [],
   "source": [
    "import json\n",
    "\n",
    "# 读取原始的 modified_tasks.json 文件\n",
    "with open('modified_tasks.jsonl', 'r') as f:\n",
    "    data = [json.loads(line) for line in f]\n",
    "\n",
    "# 存储转换后的数据\n",
    "relative_data = []\n",
    "\n",
    "for entry in data:\n",
    "    gripper = entry['task'].split(\"gripper at\")[1].split(\"),\")[0].strip(\" (\") + \")\"\n",
    "    sachet = entry['task'].split(\"sachet at\")[1].strip()\n",
    "\n",
    "    # 解析坐标字符串成元组\n",
    "    gripper_pos = tuple(map(float, gripper.strip(\"()\").split(\",\")))\n",
    "    sachet_pos = tuple(map(float, sachet.strip(\"()\").split(\",\")))\n",
    "\n",
    "    # 计算相对位置：sachet - gripper\n",
    "    relative_pos = tuple(round(s - g, 3) for s, g in zip(sachet_pos, gripper_pos))\n",
    "\n",
    "    # 构建新的 task 字符串\n",
    "    task = f\"Pick up the pyramid-shaped sachet and place it into the box, sachet position relative to gripper is {relative_pos}\"\n",
    "\n",
    "    # 构建新的字典条目\n",
    "    relative_entry = {\n",
    "        \"episode_index\": entry[\"episode_index\"],\n",
    "        \"frame_index\": entry[\"frame_index\"],\n",
    "        \"task\": task\n",
    "    }\n",
    "\n",
    "    relative_data.append(relative_entry)\n",
    "\n",
    "# 写入新的 relative_task.json 文件\n",
    "with open('relative_task.json', 'w') as f:\n",
    "    for entry in relative_data:\n",
    "        json.dump(entry, f)\n",
    "        f.write('\\n')\n"
   ]
  },
  {
   "cell_type": "markdown",
   "metadata": {},
   "source": [
    "防止识别不了太精细，网格化，单位3cm\n"
   ]
  },
  {
   "cell_type": "code",
   "execution_count": 3,
   "metadata": {},
   "outputs": [],
   "source": [
    "import json\n",
    "\n",
    "GRID_SIZE = 0.05  # 5cm = 0.05m\n",
    "\n",
    "# 读取原始的 modified_tasks.json 文件\n",
    "with open('modified_tasks.jsonl', 'r') as f:\n",
    "    data = [json.loads(line) for line in f]\n",
    "\n",
    "relative_data = []\n",
    "\n",
    "for entry in data:\n",
    "    gripper = entry['task'].split(\"gripper at\")[1].split(\"),\")[0].strip(\" (\") + \")\"\n",
    "    sachet = entry['task'].split(\"sachet at\")[1].strip()\n",
    "\n",
    "    # 解析坐标\n",
    "    gripper_pos = tuple(map(float, gripper.strip(\"()\").split(\",\")))\n",
    "    sachet_pos = tuple(map(float, sachet.strip(\"()\").split(\",\")))\n",
    "\n",
    "    # 计算相对位置（以grid为单位）\n",
    "    relative_pos = tuple(int(round((s - g) / GRID_SIZE)) for s, g in zip(sachet_pos, gripper_pos))\n",
    "\n",
    "    # 生成新的 task 描述\n",
    "    task = f\"Pick up the pyramid-shaped sachet and place it into the box, sachet position relative to gripper is {relative_pos} in 5cm grid units.\"\n",
    "\n",
    "    # 创建新 entry\n",
    "    relative_entry = {\n",
    "        \"episode_index\": entry[\"episode_index\"],\n",
    "        \"frame_index\": entry[\"frame_index\"],\n",
    "        \"task\": task\n",
    "    }\n",
    "\n",
    "    relative_data.append(relative_entry)\n",
    "\n",
    "# 保存为 relative_task.json\n",
    "with open('relative_task_grid.json', 'w') as f:\n",
    "    for entry in relative_data:\n",
    "        json.dump(entry, f)\n",
    "        f.write('\\n')\n"
   ]
  }
 ],
 "metadata": {
  "kernelspec": {
   "display_name": "lerobot",
   "language": "python",
   "name": "python3"
  },
  "language_info": {
   "codemirror_mode": {
    "name": "ipython",
    "version": 3
   },
   "file_extension": ".py",
   "mimetype": "text/x-python",
   "name": "python",
   "nbconvert_exporter": "python",
   "pygments_lexer": "ipython3",
   "version": "3.10.18"
  }
 },
 "nbformat": 4,
 "nbformat_minor": 2
}
